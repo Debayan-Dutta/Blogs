{
 "cells": [
  {
   "cell_type": "code",
   "execution_count": 1,
   "metadata": {
    "_cell_guid": "b1076dfc-b9ad-4769-8c92-a6c4dae69d19",
    "_uuid": "8f2839f25d086af736a60e9eeb907d3b93b6e0e5",
    "execution": {
     "iopub.execute_input": "2023-06-26T07:19:33.567141Z",
     "iopub.status.busy": "2023-06-26T07:19:33.566474Z",
     "iopub.status.idle": "2023-06-26T07:19:51.023237Z",
     "shell.execute_reply": "2023-06-26T07:19:51.022295Z",
     "shell.execute_reply.started": "2023-06-26T07:19:33.567115Z"
    }
   },
   "outputs": [
    {
     "name": "stderr",
     "output_type": "stream",
     "text": [
      "/opt/conda/lib/python3.10/site-packages/tensorflow_io/python/ops/__init__.py:98: UserWarning: unable to load libtensorflow_io_plugins.so: unable to open file: libtensorflow_io_plugins.so, from paths: ['/opt/conda/lib/python3.10/site-packages/tensorflow_io/python/ops/libtensorflow_io_plugins.so']\n",
      "caused by: ['/opt/conda/lib/python3.10/site-packages/tensorflow_io/python/ops/libtensorflow_io_plugins.so: undefined symbol: _ZN3tsl6StatusC1EN10tensorflow5error4CodeESt17basic_string_viewIcSt11char_traitsIcEENS_14SourceLocationE']\n",
      "  warnings.warn(f\"unable to load libtensorflow_io_plugins.so: {e}\")\n",
      "/opt/conda/lib/python3.10/site-packages/tensorflow_io/python/ops/__init__.py:104: UserWarning: file system plugins are not loaded: unable to open file: libtensorflow_io.so, from paths: ['/opt/conda/lib/python3.10/site-packages/tensorflow_io/python/ops/libtensorflow_io.so']\n",
      "caused by: ['/opt/conda/lib/python3.10/site-packages/tensorflow_io/python/ops/libtensorflow_io.so: undefined symbol: _ZTVN10tensorflow13GcsFileSystemE']\n",
      "  warnings.warn(f\"file system plugins are not loaded: {e}\")\n"
     ]
    }
   ],
   "source": [
    "import tensorflow as tf\n",
    "from tensorflow.keras.models import Sequential, Model\n",
    "from tensorflow.keras.layers import Dense, Flatten, Reshape\n",
    "import tensorflow_probability as tfp\n",
    "tfd = tfp.distributions\n",
    "tfpl = tfp.layers\n",
    "import matplotlib.pyplot as plt\n",
    "import numpy as np"
   ]
  },
  {
   "cell_type": "code",
   "execution_count": 2,
   "metadata": {
    "execution": {
     "iopub.execute_input": "2023-06-26T07:19:51.025718Z",
     "iopub.status.busy": "2023-06-26T07:19:51.025150Z",
     "iopub.status.idle": "2023-06-26T07:19:57.798610Z",
     "shell.execute_reply": "2023-06-26T07:19:57.797602Z",
     "shell.execute_reply.started": "2023-06-26T07:19:51.025693Z"
    }
   },
   "outputs": [
    {
     "name": "stdout",
     "output_type": "stream",
     "text": [
      "Downloading data from https://storage.googleapis.com/tensorflow/tf-keras-datasets/train-labels-idx1-ubyte.gz\n",
      "29515/29515 [==============================] - 0s 0us/step\n",
      "Downloading data from https://storage.googleapis.com/tensorflow/tf-keras-datasets/train-images-idx3-ubyte.gz\n",
      "26421880/26421880 [==============================] - 0s 0us/step\n",
      "Downloading data from https://storage.googleapis.com/tensorflow/tf-keras-datasets/t10k-labels-idx1-ubyte.gz\n",
      "5148/5148 [==============================] - 0s 0us/step\n",
      "Downloading data from https://storage.googleapis.com/tensorflow/tf-keras-datasets/t10k-images-idx3-ubyte.gz\n",
      "4422102/4422102 [==============================] - 0s 0us/step\n"
     ]
    }
   ],
   "source": [
    "# Import Fasion MNIST, make it a TensorFlow Dataset\n",
    "\n",
    "(x_train, _), (x_test, _) = tf.keras.datasets.fashion_mnist.load_data()\n",
    "x_train = x_train.astype('float32')/255.\n",
    "x_test = x_test.astype('float32')/255.\n",
    "example_x = x_test[:16]\n",
    "\n",
    "batch_size = 64\n",
    "x_train = tf.data.Dataset.from_tensor_slices(x_train).batch(batch_size)"
   ]
  },
  {
   "cell_type": "code",
   "execution_count": 3,
   "metadata": {
    "execution": {
     "iopub.execute_input": "2023-06-26T07:19:57.800770Z",
     "iopub.status.busy": "2023-06-26T07:19:57.800381Z",
     "iopub.status.idle": "2023-06-26T07:19:58.159818Z",
     "shell.execute_reply": "2023-06-26T07:19:58.158879Z",
     "shell.execute_reply.started": "2023-06-26T07:19:57.800733Z"
    }
   },
   "outputs": [],
   "source": [
    "# Define the encoding distribution, q(z|x)\n",
    "latent_size=2\n",
    "event_shape=(28,28)\n",
    "encoder=Sequential([Flatten(input_shape=event_shape),Dense(256,activation='relu'),Dense(128,activation='relu')\n",
    "                    ,Dense(64,activation='relu'),Dense(32,activation='relu'),Dense(2*latent_size)\n",
    "                   ,tfpl.DistributionLambda( lambda t : tfd.MultivariateNormalDiag(loc=t[...,:latent_size]\n",
    "                                                                                   ,scale_diag=tf.math.exp(t[...,latent_size:])))])"
   ]
  },
  {
   "cell_type": "code",
   "execution_count": 4,
   "metadata": {
    "execution": {
     "iopub.execute_input": "2023-06-26T07:19:58.162689Z",
     "iopub.status.busy": "2023-06-26T07:19:58.162334Z",
     "iopub.status.idle": "2023-06-26T07:19:58.180121Z",
     "shell.execute_reply": "2023-06-26T07:19:58.179113Z",
     "shell.execute_reply.started": "2023-06-26T07:19:58.162658Z"
    }
   },
   "outputs": [],
   "source": [
    "# Define the decoding distribution, p(x|z)\n",
    "\n",
    "decoder=Sequential([Dense(32,activation='relu'),Dense(64,activation='relu')\n",
    "                    ,Dense(128,activation='relu'),Dense(256,activation='relu'),Dense(tfpl.IndependentBernoulli.params_size(event_shape),\n",
    "                                                                                    ),tfpl.IndependentBernoulli(event_shape)])"
   ]
  },
  {
   "cell_type": "code",
   "execution_count": 5,
   "metadata": {
    "execution": {
     "iopub.execute_input": "2023-06-26T07:19:58.184164Z",
     "iopub.status.busy": "2023-06-26T07:19:58.183150Z",
     "iopub.status.idle": "2023-06-26T07:19:58.196036Z",
     "shell.execute_reply": "2023-06-26T07:19:58.194838Z",
     "shell.execute_reply.started": "2023-06-26T07:19:58.184132Z"
    }
   },
   "outputs": [],
   "source": [
    "# Define the prior, p(z) - a standard bivariate Gaussian\n",
    "\n",
    "prior=tfd.MultivariateNormalDiag(loc=tf.zeros(latent_size))"
   ]
  },
  {
   "cell_type": "code",
   "execution_count": 6,
   "metadata": {
    "execution": {
     "iopub.execute_input": "2023-06-26T07:19:58.198815Z",
     "iopub.status.busy": "2023-06-26T07:19:58.198554Z",
     "iopub.status.idle": "2023-06-26T07:19:58.205196Z",
     "shell.execute_reply": "2023-06-26T07:19:58.203987Z",
     "shell.execute_reply.started": "2023-06-26T07:19:58.198793Z"
    }
   },
   "outputs": [],
   "source": [
    "# Specify the loss function, an estimate of the -ELBO\n",
    "\n",
    "def loss(x, encoding_dist, sampled_decoding_dist, prior):\n",
    "    return tf.reduce_sum(tfd.kl_divergence(encoding_dist,prior)-sampled_decoding_dist.log_prob(x))"
   ]
  },
  {
   "cell_type": "code",
   "execution_count": 7,
   "metadata": {
    "execution": {
     "iopub.execute_input": "2023-06-26T07:19:58.207269Z",
     "iopub.status.busy": "2023-06-26T07:19:58.206800Z",
     "iopub.status.idle": "2023-06-26T07:19:58.216603Z",
     "shell.execute_reply": "2023-06-26T07:19:58.215764Z",
     "shell.execute_reply.started": "2023-06-26T07:19:58.207236Z"
    }
   },
   "outputs": [],
   "source": [
    "# Define a function that returns the loss and its gradients\n",
    "\n",
    "@tf.function\n",
    "\n",
    "def get_loss_and_grads(x):\n",
    "    with tf.GradientTape() as tape:\n",
    "        encoding_dist=encoder(x)\n",
    "        sampled_z=encoding_dist.sample() \n",
    "        sampled_decoding_dist=decoder(sampled_z)\n",
    "        current_loss=loss(x, encoding_dist, sampled_decoding_dist, prior)\n",
    "        \n",
    "    grads=tape.gradient(current_loss,\n",
    "        encoder.trainable_variables +\n",
    "        decoder.trainable_variables)\n",
    "    return current_loss, grads\n"
   ]
  },
  {
   "cell_type": "code",
   "execution_count": 8,
   "metadata": {
    "execution": {
     "iopub.execute_input": "2023-06-26T07:19:58.218782Z",
     "iopub.status.busy": "2023-06-26T07:19:58.218023Z",
     "iopub.status.idle": "2023-06-26T07:28:09.870356Z",
     "shell.execute_reply": "2023-06-26T07:28:09.869137Z",
     "shell.execute_reply.started": "2023-06-26T07:19:58.218747Z"
    }
   },
   "outputs": [
    {
     "name": "stdout",
     "output_type": "stream",
     "text": [
      "-ELBO after epoch 1: 8898\n",
      "-ELBO after epoch 2: 8771\n",
      "-ELBO after epoch 3: 8789\n",
      "-ELBO after epoch 4: 8737\n",
      "-ELBO after epoch 5: 8807\n",
      "-ELBO after epoch 6: 8712\n",
      "-ELBO after epoch 7: 8694\n",
      "-ELBO after epoch 8: 8671\n",
      "-ELBO after epoch 9: 8692\n",
      "-ELBO after epoch 10: 8919\n",
      "-ELBO after epoch 11: 8682\n",
      "-ELBO after epoch 12: 8636\n",
      "-ELBO after epoch 13: 8702\n",
      "-ELBO after epoch 14: 8669\n",
      "-ELBO after epoch 15: 8695\n",
      "-ELBO after epoch 16: 8601\n",
      "-ELBO after epoch 17: 8619\n",
      "-ELBO after epoch 18: 8731\n",
      "-ELBO after epoch 19: 8705\n",
      "-ELBO after epoch 20: 8615\n",
      "-ELBO after epoch 21: 8851\n",
      "-ELBO after epoch 22: 8575\n",
      "-ELBO after epoch 23: 8593\n",
      "-ELBO after epoch 24: 8555\n",
      "-ELBO after epoch 25: 8616\n",
      "-ELBO after epoch 26: 8611\n",
      "-ELBO after epoch 27: 8570\n",
      "-ELBO after epoch 28: 8574\n",
      "-ELBO after epoch 29: 8831\n",
      "-ELBO after epoch 30: 8837\n"
     ]
    }
   ],
   "source": [
    "# Compile and train the model\n",
    "\n",
    "num_epochs = 30\n",
    "opt = tf.keras.optimizers.Adam()\n",
    "for i in range(num_epochs):\n",
    "    for train_batch in x_train:\n",
    "        current_loss, grads = get_loss_and_grads(train_batch)\n",
    "        opt.apply_gradients(zip(grads, encoder.trainable_variables\n",
    "                                       + decoder.trainable_variables))\n",
    "        \n",
    "    print('-ELBO after epoch {}: {:.0f}'.format(i+1, current_loss.numpy()))"
   ]
  },
  {
   "cell_type": "code",
   "execution_count": 9,
   "metadata": {
    "execution": {
     "iopub.execute_input": "2023-06-26T07:28:09.872649Z",
     "iopub.status.busy": "2023-06-26T07:28:09.871811Z",
     "iopub.status.idle": "2023-06-26T07:28:10.006611Z",
     "shell.execute_reply": "2023-06-26T07:28:10.005747Z",
     "shell.execute_reply.started": "2023-06-26T07:28:09.872614Z"
    }
   },
   "outputs": [],
   "source": [
    "# Connect encoder and decoder, compute a reconstruction\n",
    "def vae(inputs):\n",
    "    approx_posterior=encoder(inputs)\n",
    "    decoding_dist=decoder(approx_posterior.sample())\n",
    "    return decoding_dist.mean()\n",
    "example_reconstruction=vae(example_x).numpy().squeeze()\n",
    "    "
   ]
  },
  {
   "cell_type": "code",
   "execution_count": 10,
   "metadata": {
    "execution": {
     "iopub.execute_input": "2023-06-26T07:28:10.009715Z",
     "iopub.status.busy": "2023-06-26T07:28:10.009387Z",
     "iopub.status.idle": "2023-06-26T07:28:10.796769Z",
     "shell.execute_reply": "2023-06-26T07:28:10.795836Z",
     "shell.execute_reply.started": "2023-06-26T07:28:10.009685Z"
    }
   },
   "outputs": [
    {
     "data": {
      "image/png": "[encoded data removed]",
      "text/plain": [
       "<Figure size 1600x500 with 12 Axes>"
      ]
     },
     "metadata": {},
     "output_type": "display_data"
    }
   ],
   "source": [
    "# Plot examples against reconstructions\n",
    "\n",
    "f, axs = plt.subplots(2, 6, figsize=(16, 5))\n",
    "\n",
    "for j in range(6):\n",
    "    axs[0, j].imshow(example_x[j, :, :].squeeze(), cmap='binary')\n",
    "    axs[1, j].imshow(example_reconstruction[j, :, :], cmap='binary')\n",
    "    axs[0, j].axis('off')\n",
    "    axs[1, j].axis('off')"
   ]
  },
  {
   "cell_type": "code",
   "execution_count": null,
   "metadata": {},
   "outputs": [],
   "source": []
  }
 ],
 "metadata": {
  "kernelspec": {
   "display_name": "Python 3",
   "language": "python",
   "name": "python3"
  },
  "language_info": {
   "codemirror_mode": {
    "name": "ipython",
    "version": 3
   },
   "file_extension": ".py",
   "mimetype": "text/x-python",
   "name": "python",
   "nbconvert_exporter": "python",
   "pygments_lexer": "ipython3",
   "version": "3.8.8"
  }
 },
 "nbformat": 4,
 "nbformat_minor": 4
}
